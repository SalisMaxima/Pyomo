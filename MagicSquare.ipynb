{
 "cells": [
  {
   "cell_type": "code",
   "execution_count": 1,
   "id": "0cb27f13",
   "metadata": {},
   "outputs": [],
   "source": [
    "from ortools.sat.python import cp_model\n",
    "import numpy as np"
   ]
  },
  {
   "cell_type": "markdown",
   "id": "0eba02e8",
   "metadata": {},
   "source": [
    "A magic square is a fascinating mathematical puzzle where numbers are arranged in a grid in such a way that the sum of the numbers in each row, column, and diagonal is the same. It's like a numerical crossword, where every row and column holds a unique combination of numbers, and the challenge lies in arranging the digits so that they magically add up to a constant sum. Magic squares come in various sizes and complexities, from simple 3x3 grids to larger, intricate puzzles. Solving a magic square requires both logic and creativity, making it a delightful and engaging mathematical challenge for enthusiasts of all ages.\n",
    "M = n(n*n+1)/2"
   ]
  },
  {
   "cell_type": "code",
   "execution_count": 2,
   "id": "b5cbcb22",
   "metadata": {},
   "outputs": [
    {
     "name": "stdout",
     "output_type": "stream",
     "text": [
      "[2, 7, 6]\n",
      "[9, 5, 1]\n",
      "[4, 3, 8]\n",
      "-------------------------\n",
      "[4, 3, 8]\n",
      "[9, 5, 1]\n",
      "[2, 7, 6]\n",
      "-------------------------\n",
      "[6, 7, 2]\n",
      "[1, 5, 9]\n",
      "[8, 3, 4]\n",
      "-------------------------\n",
      "[8, 3, 4]\n",
      "[1, 5, 9]\n",
      "[6, 7, 2]\n",
      "-------------------------\n",
      "[4, 9, 2]\n",
      "[3, 5, 7]\n",
      "[8, 1, 6]\n",
      "-------------------------\n",
      "[2, 9, 4]\n",
      "[7, 5, 3]\n",
      "[6, 1, 8]\n",
      "-------------------------\n",
      "[6, 1, 8]\n",
      "[7, 5, 3]\n",
      "[2, 9, 4]\n",
      "-------------------------\n",
      "[8, 1, 6]\n",
      "[3, 5, 7]\n",
      "[4, 9, 2]\n",
      "-------------------------\n",
      "Status = OPTIMAL\n",
      "Number of solutions found: 8\n"
     ]
    }
   ],
   "source": [
    "class VarArraySolutionPrinter(cp_model.CpSolverSolutionCallback):\n",
    "    \"\"\"Print intermediate solutions.\"\"\"\n",
    "    def __init__(self, variables):\n",
    "        cp_model.CpSolverSolutionCallback.__init__(self)\n",
    "        self.__variables = variables\n",
    "        self.__solution_count = 0\n",
    "    def on_solution_callback(self):\n",
    "        self.__solution_count += 1\n",
    "        N = int(np.sqrt(len(self.__variables)))\n",
    "        for r in range(1,1+N):\n",
    "            print([self.Value(self.__variables[i,j]) for (i,j) in self.__variables if i==r])\n",
    "        print('-------------------------')\n",
    "    def solution_count(self):\n",
    "        return self.__solution_count\n",
    "\n",
    "def SearchForAllSolutionsSampleSat(n):\n",
    "    \"\"\"Showcases calling the solver to search for all solutions.\"\"\"\n",
    "    # Creates the model.\n",
    "    model = cp_model.CpModel()\n",
    "\n",
    "    # Creates the variables.\n",
    "    M = int(n*(n*n+1)/2)    \n",
    "    rows = range(1,n+1)\n",
    "    cols = range(1,n+1)\n",
    "    x = {(i,j):model.NewIntVar(1, n**2, f\"x_{i}_{j}\") for i in rows for j in cols}\n",
    "    \n",
    "    # Create the constraints.\n",
    "    model.AddAllDifferent([x[i,j] for (i,j) in x])\n",
    "    \n",
    "    for r in rows:\n",
    "        expressions = [x[r,c] for c in cols]\n",
    "        model.Add(sum(expressions) == M )\n",
    "        model.AddAllDifferent(expressions)\n",
    "\n",
    "        \n",
    "    for c in cols:\n",
    "        expressions = [x[r,c] for r in rows]\n",
    "        model.Add(sum(expressions) == M )\n",
    "        model.AddAllDifferent(expressions)\n",
    "    \n",
    "    expressions_d = [x[r,c] for r in rows for c in cols if r==c]\n",
    "    model.Add(sum(expressions_d) == M ) \n",
    "    \n",
    "    expressions_ad = [x[r,c] for r in rows for c in cols if r==n-c+1]\n",
    "    model.Add(sum(expressions_ad) == M ) \n",
    "\n",
    "\n",
    "    # Create a solver and solve.\n",
    "    solver = cp_model.CpSolver()\n",
    "    solution_printer = VarArraySolutionPrinter(x)\n",
    "    # Enumerate all solutions.\n",
    "    solver.parameters.enumerate_all_solutions = True\n",
    "    # Solve.\n",
    "    \n",
    "    status = solver.Solve(model, solution_printer)\n",
    "    #status = solver.Solve(model)\n",
    "\n",
    "    print(f\"Status = {solver.StatusName(status)}\")\n",
    "    print(f\"Number of solutions found: {solution_printer.solution_count()}\")\n",
    "\n",
    "\n",
    "SearchForAllSolutionsSampleSat(3)"
   ]
  },
  {
   "cell_type": "code",
   "execution_count": null,
   "id": "0dff1b56",
   "metadata": {},
   "outputs": [],
   "source": []
  }
 ],
 "metadata": {
  "kernelspec": {
   "display_name": "Python 3",
   "language": "python",
   "name": "python3"
  },
  "language_info": {
   "codemirror_mode": {
    "name": "ipython",
    "version": 3
   },
   "file_extension": ".py",
   "mimetype": "text/x-python",
   "name": "python",
   "nbconvert_exporter": "python",
   "pygments_lexer": "ipython3",
   "version": "3.6.15"
  }
 },
 "nbformat": 4,
 "nbformat_minor": 5
}
